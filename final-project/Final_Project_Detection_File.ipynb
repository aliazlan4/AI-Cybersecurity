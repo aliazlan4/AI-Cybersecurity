{
  "nbformat": 4,
  "nbformat_minor": 0,
  "metadata": {
    "colab": {
      "name": "Final Project - Detection File.ipynb",
      "provenance": [],
      "collapsed_sections": []
    },
    "kernelspec": {
      "name": "python3",
      "display_name": "Python 3"
    }
  },
  "cells": [
    {
      "cell_type": "code",
      "metadata": {
        "id": "uoma4a6611jt",
        "colab_type": "code",
        "colab": {}
      },
      "source": [
        "# lets remove the warnings\n",
        "import warnings\n",
        "warnings.filterwarnings(\"ignore\")\n",
        "\n",
        "# import all required libraries\n",
        "from sklearn.model_selection import train_test_split\n",
        "import tensorflow as tf\n",
        "from tensorflow import keras\n",
        "from tensorflow.keras import layers\n",
        "import pandas as pd\n",
        "import numpy as np"
      ],
      "execution_count": 0,
      "outputs": []
    },
    {
      "cell_type": "code",
      "metadata": {
        "id": "Ob9zsnMw2PTu",
        "colab_type": "code",
        "colab": {}
      },
      "source": [
        "data = pd.read_csv('phishing-dataset.csv')\n",
        "\n",
        "del data['id']\n",
        "data['Result'] = data['Result'].map({-1:0, 1:1})\n",
        "\n",
        "y = data.iloc[:, -1].values\n",
        "x = data.iloc[:, :-1].values\n",
        "\n",
        "model = tf.keras.models.load_model('model.h5')"
      ],
      "execution_count": 0,
      "outputs": []
    },
    {
      "cell_type": "code",
      "metadata": {
        "id": "HVd66fDz81kJ",
        "colab_type": "code",
        "colab": {}
      },
      "source": [
        "TEST_SAMPLE_ID = 100\n",
        "TEST_SAMPLE = x[TEST_SAMPLE_ID]\n",
        "TEST_RESULT = y[TEST_SAMPLE_ID]"
      ],
      "execution_count": 0,
      "outputs": []
    },
    {
      "cell_type": "code",
      "metadata": {
        "id": "9EzGU18R2lDl",
        "colab_type": "code",
        "colab": {
          "base_uri": "https://localhost:8080/",
          "height": 71
        },
        "outputId": "efacd7fc-7d46-4882-feb9-631c19e9708b"
      },
      "source": [
        "result = model.predict(TEST_SAMPLE.reshape(1, -1))"
      ],
      "execution_count": 82,
      "outputs": [
        {
          "output_type": "stream",
          "text": [
            "WARNING:tensorflow:Model was constructed with shape (None, 1, 30) for input Tensor(\"dense_30_input_13:0\", shape=(None, 1, 30), dtype=float32), but it was called on an input with incompatible shape (None, 30).\n"
          ],
          "name": "stdout"
        },
        {
          "output_type": "execute_result",
          "data": {
            "text/plain": [
              "8.411969e-08"
            ]
          },
          "metadata": {
            "tags": []
          },
          "execution_count": 82
        }
      ]
    },
    {
      "cell_type": "code",
      "metadata": {
        "id": "ptFG6VYI8SOq",
        "colab_type": "code",
        "colab": {
          "base_uri": "https://localhost:8080/",
          "height": 51
        },
        "outputId": "94ba468f-a2ab-4390-f3fe-f5238e241909"
      },
      "source": [
        "print('Calculated Result: {}'.format('Phishing' if result[0][0] > 0.5 else 'Normal'))\n",
        "print('Dataset Result: {}'.format('Phishing' if TEST_RESULT == 1 else 'Normal'))"
      ],
      "execution_count": 83,
      "outputs": [
        {
          "output_type": "stream",
          "text": [
            "Calculated Result: Normal\n",
            "Dataset Result: Normal\n"
          ],
          "name": "stdout"
        }
      ]
    }
  ]
}